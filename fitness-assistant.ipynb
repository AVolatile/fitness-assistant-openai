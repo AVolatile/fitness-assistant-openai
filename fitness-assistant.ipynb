{
 "cells": [
  {
   "cell_type": "markdown",
   "metadata": {},
   "source": [
    "Import Required Libraries"
   ]
  },
  {
   "cell_type": "code",
   "execution_count": 12,
   "metadata": {},
   "outputs": [
    {
     "name": "stdout",
     "output_type": "stream",
     "text": [
      "API key loaded: True\n"
     ]
    }
   ],
   "source": [
    "from openai import OpenAI\n",
    "from dotenv import load_dotenv\n",
    "import os\n",
    "\n",
    "# Load the environment variables from the .env file\n",
    "load_dotenv()\n",
    "\n",
    "# Get the API key from the environment variable\n",
    "api_key = os.getenv(\"OPENAI_API_KEY\")\n",
    "\n",
    "# Initialize the OpenAI client with the API key\n",
    "client = OpenAI(api_key=api_key)\n",
    "\n",
    "# Verify API key loaded correctly\n",
    "print(\"API key loaded:\", bool(api_key))\n"
   ]
  },
  {
   "cell_type": "markdown",
   "metadata": {},
   "source": [
    "Define Functions to Calculate BMI"
   ]
  },
  {
   "cell_type": "code",
   "execution_count": 13,
   "metadata": {},
   "outputs": [],
   "source": [
    "def calculate_bmi(height: float, weight: float) -> float:\n",
    "    return weight / (height / 100) ** 2\n"
   ]
  },
  {
   "cell_type": "markdown",
   "metadata": {},
   "source": [
    "Define Functions to Provide Diet Tips"
   ]
  },
  {
   "cell_type": "code",
   "execution_count": 14,
   "metadata": {},
   "outputs": [],
   "source": [
    "def provide_diet_tips(goal: str, body_type: str) -> str:\n",
    "    if goal == 'weight loss':\n",
    "        if body_type == 'ectomorph':\n",
    "            return 'Focus on high-protein, low-carb meals. Avoid processed sugars.'\n",
    "        else:\n",
    "            return 'Consider a balanced diet with controlled portion sizes. Reduce calorie intake moderately.'\n",
    "    elif goal == 'muscle gain':\n",
    "        return 'Increase protein intake, include complex carbs and healthy fats in your diet.'\n",
    "    else:\n",
    "        return 'Maintain a balanced diet with a mix of protein, carbs, and fats.'\n"
   ]
  },
  {
   "cell_type": "markdown",
   "metadata": {},
   "source": [
    "Define Functions to Provide Exercise Regimens"
   ]
  },
  {
   "cell_type": "code",
   "execution_count": 15,
   "metadata": {},
   "outputs": [],
   "source": [
    "def provide_exercise_regimen(goal: str, body_type: str) -> str:\n",
    "    if goal == 'weight loss':\n",
    "        return 'Incorporate cardio exercises like running, cycling, and HIIT. Include strength training 2-3 times a week.'\n",
    "    elif goal == 'muscle gain':\n",
    "        return 'Focus on weightlifting and resistance training. Train different muscle groups on different days.'\n",
    "    else:\n",
    "        return 'Include a mix of cardio and strength training exercises. Aim for at least 150 minutes of moderate aerobic activity each week.'\n"
   ]
  },
  {
   "cell_type": "markdown",
   "metadata": {},
   "source": [
    "Define OpenAI Interaction Function"
   ]
  },
  {
   "cell_type": "code",
   "execution_count": 16,
   "metadata": {},
   "outputs": [],
   "source": [
    "def get_openai_response(prompt: str) -> str:\n",
    "    try:\n",
    "        response = client.Completion.create(\n",
    "            model=\"gpt-3.5-turbo-1106\",\n",
    "            prompt=prompt,\n",
    "            max_tokens=150,\n",
    "            n=1,\n",
    "            stop=None,\n",
    "            temperature=0.5\n",
    "        )\n",
    "        print(\"Response received from OpenAI API.\")\n",
    "        return response.choices[0].text.strip()\n",
    "    except Exception as e:\n",
    "        print(\"Error during OpenAI API call:\", str(e))\n",
    "        return \"An error occurred while fetching the response.\"\n"
   ]
  },
  {
   "cell_type": "markdown",
   "metadata": {},
   "source": [
    "Main Function to Gather User Input and Provide Fitness Assistance with OpenAI"
   ]
  },
  {
   "cell_type": "code",
   "execution_count": 17,
   "metadata": {},
   "outputs": [],
   "source": [
    "def fitness_assistant_with_openai():\n",
    "    height = float(input(\"What is your height in cm? \"))\n",
    "    weight = float(input(\"What is your weight in kg? \"))\n",
    "    goal = input(\"What is your fitness goal (weight loss, muscle gain, maintenance)? \").lower()\n",
    "    body_type = input(\"What is your body type (ectomorph, mesomorph, endomorph)? \").lower()\n",
    "\n",
    "    bmi = calculate_bmi(height, weight)\n",
    "\n",
    "    diet_prompt = f\"Provide diet tips for {goal} for someone with a {body_type} body type.\"\n",
    "    exercise_prompt = f\"Provide an exercise regimen for {goal} for someone with a {body_type} body type.\"\n",
    "\n",
    "    print(\"Sending diet prompt to OpenAI API...\")\n",
    "    diet_tips = get_openai_response(diet_prompt)\n",
    "    print(f\"Diet tips received: {diet_tips}\")\n",
    "\n",
    "    print(\"Sending exercise prompt to OpenAI API...\")\n",
    "    exercise_regimen = get_openai_response(exercise_prompt)\n",
    "    print(f\"Exercise regimen received: {exercise_regimen}\")\n",
    "\n",
    "    print(f\"\\nYour BMI is: {bmi:.2f}\")\n",
    "    print(f\"Diet Tips: {diet_tips}\")\n",
    "    print(f\"Exercise Regimen: {exercise_regimen}\")\n",
    "\n",
    "# Run the fitness assistant with OpenAI\n",
    "fitness_assistant_with_openai()\n"
   ]
  }
 ],
 "metadata": {
  "kernelspec": {
   "display_name": "Python 3",
   "language": "python",
   "name": "python3"
  },
  "language_info": {
   "codemirror_mode": {
    "name": "ipython",
    "version": 3
   },
   "file_extension": ".py",
   "mimetype": "text/x-python",
   "name": "python",
   "nbconvert_exporter": "python",
   "pygments_lexer": "ipython3",
   "version": "3.12.4"
  }
 },
 "nbformat": 4,
 "nbformat_minor": 2
}
